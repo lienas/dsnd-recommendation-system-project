{
 "cells": [
  {
   "cell_type": "markdown",
   "metadata": {},
   "source": [
    "# Recommendation System Project: IBM Community\n",
    "\n",
    "In this notebook, you will be putting your recommendation skills to use on real data from the IBM Watson Studio platform. \n",
    "\n",
    "\n",
    "You may either submit your notebook through the workspace here, or you may work from your local machine and submit through the next page.  Either way assure that your code passes the project [RUBRIC](https://review.udacity.com/#!/rubrics/3325/view).  **Please save regularly.**\n",
    "\n",
    "By following the table of contents, you will build out a number of different methods for making recommendations that can be used for different situations. \n",
    "\n",
    "\n",
    "## Table of Contents\n",
    "\n",
    "I. [Exploratory Data Analysis](#Exploratory-Data-Analysis)<br>\n",
    "II. [Rank Based Recommendations](#Rank)<br>\n",
    "III. [User-User Based Collaborative Filtering](#User-User)<br>\n",
    "IV. [Content Based Recommendations](#Content-Recs)<br>\n",
    "V. [Matrix Factorization](#Matrix-Fact)<br>\n",
    "VI. [Extras & Concluding](#conclusions)\n",
    "\n",
    "At the end of the notebook, you will find directions for how to submit your work.  Let's get started by importing the necessary libraries and reading in the data."
   ]
  },
  {
   "cell_type": "code",
   "execution_count": 264,
   "metadata": {},
   "outputs": [
    {
     "data": {
      "text/html": [
       "<div>\n",
       "<style scoped>\n",
       "    .dataframe tbody tr th:only-of-type {\n",
       "        vertical-align: middle;\n",
       "    }\n",
       "\n",
       "    .dataframe tbody tr th {\n",
       "        vertical-align: top;\n",
       "    }\n",
       "\n",
       "    .dataframe thead th {\n",
       "        text-align: right;\n",
       "    }\n",
       "</style>\n",
       "<table border=\"1\" class=\"dataframe\">\n",
       "  <thead>\n",
       "    <tr style=\"text-align: right;\">\n",
       "      <th></th>\n",
       "      <th>article_id</th>\n",
       "      <th>title</th>\n",
       "      <th>email</th>\n",
       "    </tr>\n",
       "  </thead>\n",
       "  <tbody>\n",
       "    <tr>\n",
       "      <th>0</th>\n",
       "      <td>1430</td>\n",
       "      <td>using pixiedust for fast, flexible, and easier...</td>\n",
       "      <td>ef5f11f77ba020cd36e1105a00ab868bbdbf7fe7</td>\n",
       "    </tr>\n",
       "    <tr>\n",
       "      <th>1</th>\n",
       "      <td>1314</td>\n",
       "      <td>healthcare python streaming application demo</td>\n",
       "      <td>083cbdfa93c8444beaa4c5f5e0f5f9198e4f9e0b</td>\n",
       "    </tr>\n",
       "    <tr>\n",
       "      <th>2</th>\n",
       "      <td>1429</td>\n",
       "      <td>use deep learning for image classification</td>\n",
       "      <td>b96a4f2e92d8572034b1e9b28f9ac673765cd074</td>\n",
       "    </tr>\n",
       "    <tr>\n",
       "      <th>3</th>\n",
       "      <td>1338</td>\n",
       "      <td>ml optimization using cognitive assistant</td>\n",
       "      <td>06485706b34a5c9bf2a0ecdac41daf7e7654ceb7</td>\n",
       "    </tr>\n",
       "    <tr>\n",
       "      <th>4</th>\n",
       "      <td>1276</td>\n",
       "      <td>deploy your python model as a restful api</td>\n",
       "      <td>f01220c46fc92c6e6b161b1849de11faacd7ccb2</td>\n",
       "    </tr>\n",
       "  </tbody>\n",
       "</table>\n",
       "</div>"
      ],
      "text/plain": [
       "   article_id                                              title  \\\n",
       "0        1430  using pixiedust for fast, flexible, and easier...   \n",
       "1        1314       healthcare python streaming application demo   \n",
       "2        1429         use deep learning for image classification   \n",
       "3        1338          ml optimization using cognitive assistant   \n",
       "4        1276          deploy your python model as a restful api   \n",
       "\n",
       "                                      email  \n",
       "0  ef5f11f77ba020cd36e1105a00ab868bbdbf7fe7  \n",
       "1  083cbdfa93c8444beaa4c5f5e0f5f9198e4f9e0b  \n",
       "2  b96a4f2e92d8572034b1e9b28f9ac673765cd074  \n",
       "3  06485706b34a5c9bf2a0ecdac41daf7e7654ceb7  \n",
       "4  f01220c46fc92c6e6b161b1849de11faacd7ccb2  "
      ]
     },
     "execution_count": 264,
     "metadata": {},
     "output_type": "execute_result"
    }
   ],
   "source": [
    "import pandas as pd\n",
    "import numpy as np\n",
    "import matplotlib.pyplot as plt\n",
    "import project_tests as t\n",
    "\n",
    "\n",
    "df = pd.read_csv(\n",
    "    'data/user-item-interactions.csv', \n",
    "    dtype={'article_id': int, 'title': str, 'email': str},\n",
    "    index_col=0\n",
    ")\n",
    "# Show df to get an idea of the data\n",
    "df.head()"
   ]
  },
  {
   "cell_type": "markdown",
   "metadata": {},
   "source": [
    "### <a class=\"anchor\" id=\"Exploratory-Data-Analysis\">Part I : Exploratory Data Analysis</a>\n",
    "\n",
    "Use the dictionary and cells below to provide some insight into the descriptive statistics of the data.\n",
    "\n",
    "`1.` Are there any missing values? If so, provide a count of missing values. If there are missing values in `email`, assign it the same id value `\"unknown_user\"`."
   ]
  },
  {
   "cell_type": "code",
   "execution_count": 265,
   "metadata": {},
   "outputs": [
    {
     "name": "stdout",
     "output_type": "stream",
     "text": [
      "<class 'pandas.core.frame.DataFrame'>\n",
      "Index: 45993 entries, 0 to 47581\n",
      "Data columns (total 3 columns):\n",
      " #   Column      Non-Null Count  Dtype \n",
      "---  ------      --------------  ----- \n",
      " 0   article_id  45993 non-null  int64 \n",
      " 1   title       45993 non-null  object\n",
      " 2   email       45976 non-null  object\n",
      "dtypes: int64(1), object(2)\n",
      "memory usage: 1.4+ MB\n"
     ]
    }
   ],
   "source": [
    "# Some interactions do not have a user associated with it, assume the same user.\n",
    "df.info()"
   ]
  },
  {
   "cell_type": "code",
   "execution_count": 266,
   "metadata": {},
   "outputs": [
    {
     "name": "stdout",
     "output_type": "stream",
     "text": [
      "Number of Null email values is:  17\n"
     ]
    }
   ],
   "source": [
    "print(f\"Number of Null email values is:  {df.email.isna().sum()}\")"
   ]
  },
  {
   "cell_type": "code",
   "execution_count": 267,
   "metadata": {},
   "outputs": [
    {
     "data": {
      "text/html": [
       "<div>\n",
       "<style scoped>\n",
       "    .dataframe tbody tr th:only-of-type {\n",
       "        vertical-align: middle;\n",
       "    }\n",
       "\n",
       "    .dataframe tbody tr th {\n",
       "        vertical-align: top;\n",
       "    }\n",
       "\n",
       "    .dataframe thead th {\n",
       "        text-align: right;\n",
       "    }\n",
       "</style>\n",
       "<table border=\"1\" class=\"dataframe\">\n",
       "  <thead>\n",
       "    <tr style=\"text-align: right;\">\n",
       "      <th></th>\n",
       "      <th>article_id</th>\n",
       "      <th>title</th>\n",
       "      <th>email</th>\n",
       "    </tr>\n",
       "  </thead>\n",
       "  <tbody>\n",
       "    <tr>\n",
       "      <th>25146</th>\n",
       "      <td>1016</td>\n",
       "      <td>why you should master r (even if it might even...</td>\n",
       "      <td>NaN</td>\n",
       "    </tr>\n",
       "    <tr>\n",
       "      <th>30157</th>\n",
       "      <td>1393</td>\n",
       "      <td>the nurse assignment problem</td>\n",
       "      <td>NaN</td>\n",
       "    </tr>\n",
       "    <tr>\n",
       "      <th>30158</th>\n",
       "      <td>20</td>\n",
       "      <td>working interactively with rstudio and noteboo...</td>\n",
       "      <td>NaN</td>\n",
       "    </tr>\n",
       "    <tr>\n",
       "      <th>30159</th>\n",
       "      <td>1174</td>\n",
       "      <td>breast cancer wisconsin (diagnostic) data set</td>\n",
       "      <td>NaN</td>\n",
       "    </tr>\n",
       "    <tr>\n",
       "      <th>30160</th>\n",
       "      <td>62</td>\n",
       "      <td>data visualization: the importance of excludin...</td>\n",
       "      <td>NaN</td>\n",
       "    </tr>\n",
       "    <tr>\n",
       "      <th>36016</th>\n",
       "      <td>224</td>\n",
       "      <td>using apply, sapply, lapply in r</td>\n",
       "      <td>NaN</td>\n",
       "    </tr>\n",
       "    <tr>\n",
       "      <th>36029</th>\n",
       "      <td>961</td>\n",
       "      <td>beyond parallelize and collect</td>\n",
       "      <td>NaN</td>\n",
       "    </tr>\n",
       "    <tr>\n",
       "      <th>36030</th>\n",
       "      <td>268</td>\n",
       "      <td>sector correlations shiny app</td>\n",
       "      <td>NaN</td>\n",
       "    </tr>\n",
       "    <tr>\n",
       "      <th>36031</th>\n",
       "      <td>268</td>\n",
       "      <td>sector correlations shiny app</td>\n",
       "      <td>NaN</td>\n",
       "    </tr>\n",
       "    <tr>\n",
       "      <th>36032</th>\n",
       "      <td>268</td>\n",
       "      <td>sector correlations shiny app</td>\n",
       "      <td>NaN</td>\n",
       "    </tr>\n",
       "    <tr>\n",
       "      <th>36033</th>\n",
       "      <td>268</td>\n",
       "      <td>sector correlations shiny app</td>\n",
       "      <td>NaN</td>\n",
       "    </tr>\n",
       "    <tr>\n",
       "      <th>36034</th>\n",
       "      <td>415</td>\n",
       "      <td>using machine learning to predict value of hom...</td>\n",
       "      <td>NaN</td>\n",
       "    </tr>\n",
       "    <tr>\n",
       "      <th>36035</th>\n",
       "      <td>846</td>\n",
       "      <td>pearson correlation aggregation on sparksql</td>\n",
       "      <td>NaN</td>\n",
       "    </tr>\n",
       "    <tr>\n",
       "      <th>36036</th>\n",
       "      <td>268</td>\n",
       "      <td>sector correlations shiny app</td>\n",
       "      <td>NaN</td>\n",
       "    </tr>\n",
       "    <tr>\n",
       "      <th>36037</th>\n",
       "      <td>162</td>\n",
       "      <td>an introduction to stock market data analysis ...</td>\n",
       "      <td>NaN</td>\n",
       "    </tr>\n",
       "    <tr>\n",
       "      <th>44112</th>\n",
       "      <td>647</td>\n",
       "      <td>getting started with apache mahout</td>\n",
       "      <td>NaN</td>\n",
       "    </tr>\n",
       "    <tr>\n",
       "      <th>44113</th>\n",
       "      <td>965</td>\n",
       "      <td>data visualization playbook: revisiting the ba...</td>\n",
       "      <td>NaN</td>\n",
       "    </tr>\n",
       "  </tbody>\n",
       "</table>\n",
       "</div>"
      ],
      "text/plain": [
       "       article_id                                              title email\n",
       "25146        1016  why you should master r (even if it might even...   NaN\n",
       "30157        1393                       the nurse assignment problem   NaN\n",
       "30158          20  working interactively with rstudio and noteboo...   NaN\n",
       "30159        1174      breast cancer wisconsin (diagnostic) data set   NaN\n",
       "30160          62  data visualization: the importance of excludin...   NaN\n",
       "36016         224                   using apply, sapply, lapply in r   NaN\n",
       "36029         961                     beyond parallelize and collect   NaN\n",
       "36030         268                      sector correlations shiny app   NaN\n",
       "36031         268                      sector correlations shiny app   NaN\n",
       "36032         268                      sector correlations shiny app   NaN\n",
       "36033         268                      sector correlations shiny app   NaN\n",
       "36034         415  using machine learning to predict value of hom...   NaN\n",
       "36035         846        pearson correlation aggregation on sparksql   NaN\n",
       "36036         268                      sector correlations shiny app   NaN\n",
       "36037         162  an introduction to stock market data analysis ...   NaN\n",
       "44112         647                 getting started with apache mahout   NaN\n",
       "44113         965  data visualization playbook: revisiting the ba...   NaN"
      ]
     },
     "execution_count": 267,
     "metadata": {},
     "output_type": "execute_result"
    }
   ],
   "source": [
    "df[df.email.isna()]"
   ]
  },
  {
   "cell_type": "code",
   "execution_count": 268,
   "metadata": {},
   "outputs": [],
   "source": [
    "# Fill email NaNs with \"unknown_user\"\n",
    "df.email.fillna(\"unknown_user\", inplace=True)\n"
   ]
  },
  {
   "cell_type": "code",
   "execution_count": 269,
   "metadata": {},
   "outputs": [
    {
     "data": {
      "text/html": [
       "<div>\n",
       "<style scoped>\n",
       "    .dataframe tbody tr th:only-of-type {\n",
       "        vertical-align: middle;\n",
       "    }\n",
       "\n",
       "    .dataframe tbody tr th {\n",
       "        vertical-align: top;\n",
       "    }\n",
       "\n",
       "    .dataframe thead th {\n",
       "        text-align: right;\n",
       "    }\n",
       "</style>\n",
       "<table border=\"1\" class=\"dataframe\">\n",
       "  <thead>\n",
       "    <tr style=\"text-align: right;\">\n",
       "      <th></th>\n",
       "      <th>article_id</th>\n",
       "      <th>title</th>\n",
       "      <th>email</th>\n",
       "    </tr>\n",
       "  </thead>\n",
       "  <tbody>\n",
       "  </tbody>\n",
       "</table>\n",
       "</div>"
      ],
      "text/plain": [
       "Empty DataFrame\n",
       "Columns: [article_id, title, email]\n",
       "Index: []"
      ]
     },
     "execution_count": 269,
     "metadata": {},
     "output_type": "execute_result"
    }
   ],
   "source": [
    "# Check if no more NaNs \n",
    "df[df.email.isna()]"
   ]
  },
  {
   "cell_type": "markdown",
   "metadata": {},
   "source": [
    "`2.` What is the distribution of how many articles a user interacts with in the dataset?  Provide a visual and descriptive statistics to assist with giving a look at the number of times each user interacts with an article."
   ]
  },
  {
   "cell_type": "code",
   "execution_count": 270,
   "metadata": {},
   "outputs": [],
   "source": [
    "def shorten_email(email):\n",
    "    \"\"\"\n",
    "        Truncate an email address to a maximum of 8 characters, \n",
    "        appending '...' if longer.\n",
    "        \n",
    "        Args:\n",
    "            email (str): The email address to shorten.\n",
    "        \n",
    "        Returns:\n",
    "            str: Shortened email address\n",
    "    \"\"\"\n",
    "    return email[:8] + \"...\" if len(email) > 8 else email\n"
   ]
  },
  {
   "cell_type": "code",
   "execution_count": 271,
   "metadata": {},
   "outputs": [
    {
     "name": "stdout",
     "output_type": "stream",
     "text": [
      "Stats of user article counts:\n",
      "count    5149.000000\n",
      "mean        8.932414\n",
      "std        16.801011\n",
      "min         1.000000\n",
      "25%         1.000000\n",
      "50%         3.000000\n",
      "75%         9.000000\n",
      "max       364.000000\n",
      "Name: article_id, dtype: float64\n",
      "----------\n",
      "Stats of article read counts:\n",
      "count    714.000000\n",
      "mean      64.415966\n",
      "std      109.175923\n",
      "min        1.000000\n",
      "25%        8.000000\n",
      "50%       25.000000\n",
      "75%       69.000000\n",
      "max      937.000000\n",
      "Name: email, dtype: float64\n"
     ]
    }
   ],
   "source": [
    "# What are the descriptive statistics of the number of articles a user interacts with?\n",
    "user_article_counts = df.groupby('email')['article_id'].count().sort_values(ascending=False)\n",
    "print('Stats of user article counts:')\n",
    "print(user_article_counts.describe())\n",
    "print('----------')\n",
    "article_read_counts = df.groupby('article_id')['email'].count().sort_values(ascending=False)\n",
    "print('Stats of article read counts:')\n",
    "print(article_read_counts.describe())\n"
   ]
  },
  {
   "cell_type": "code",
   "execution_count": 272,
   "metadata": {},
   "outputs": [
    {
     "data": {
      "image/png": "[encoded data removed]",
      "text/plain": [
       "<Figure size 1000x600 with 1 Axes>"
      ]
     },
     "metadata": {},
     "output_type": "display_data"
    },
    {
     "data": {
      "image/png": "[encoded data removed]",
      "text/plain": [
       "<Figure size 1000x600 with 1 Axes>"
      ]
     },
     "metadata": {},
     "output_type": "display_data"
    }
   ],
   "source": [
    "# Create a plot of the number of articles read by each user\n",
    "# get rid of warnings\n",
    "import warnings\n",
    "warnings.filterwarnings(\"ignore\")\n",
    "import seaborn as sns\n",
    "\n",
    "# Histogram of the number of articles read by each user\n",
    "plt.figure(figsize=(10, 6))\n",
    "sns.histplot(user_article_counts,kde=True, bins=20)\n",
    "plt.xlabel('number of articles')\n",
    "plt.ylabel('number of users')\n",
    "plt.title('Number of Users Reading Articles')\n",
    "plt.show()\n",
    "\n",
    "# Top-10 Users by Article Interaction\n",
    "top_users = user_article_counts.sort_values(ascending=False).head(10)\n",
    "# shoreten email addresses\n",
    "top_users_display = top_users.copy().sort_values(ascending=True)\n",
    "top_users_display.index = [shorten_email(email) for email in top_users_display.index]\n",
    "\n",
    "plt.figure(figsize=(10, 6))\n",
    "top_users_display.plot(kind='barh')\n",
    "plt.title('Top 10 Users by Article Interaction')\n",
    "plt.ylabel('User (Email)')\n",
    "plt.xlabel('Number of Articles Read')\n",
    "plt.xticks(rotation=45)\n",
    "plt.tight_layout()"
   ]
  },
  {
   "cell_type": "code",
   "execution_count": 273,
   "metadata": {},
   "outputs": [
    {
     "data": {
      "image/png": "[encoded data removed]",
      "text/plain": [
       "<Figure size 1000x600 with 1 Axes>"
      ]
     },
     "metadata": {},
     "output_type": "display_data"
    }
   ],
   "source": [
    "# Create a plot of the number of times each article was read\n",
    "plt.figure(figsize=(10, 6))\n",
    "sns.histplot(article_read_counts,kde=True, bins=20)\n",
    "plt.xlabel('number of users')\n",
    "plt.ylabel('number of articles')\n",
    "plt.title('Distribution of Article Usage')\n",
    "plt.show()"
   ]
  },
  {
   "cell_type": "code",
   "execution_count": 274,
   "metadata": {},
   "outputs": [
    {
     "data": {
      "text/plain": [
       "email\n",
       "2b6c0f514c2f2b04ad3c4583407dccd0810469ee    364\n",
       "77959baaa9895a7e2bdc9297f8b27c1b6f2cb52a    363\n",
       "2f5c7feae533ce046f2cb16fb3a29fe00528ed66    170\n",
       "a37adec71b667b297ed2440a9ff7dad427c7ac85    169\n",
       "8510a5010a5d4c89f5b07baac6de80cd12cfaf93    160\n",
       "                                           ... \n",
       "0498f1014dd595483b63738e7f1071c0de4eb7cb      1\n",
       "46c6a7d4720a592acaaa6cee70d9257a84f054a9      1\n",
       "46af73d6659c3cb2b11621806fd438ecf3316ba2      1\n",
       "46ae2f0af020b35aee8394176efadc7201c5cb16      1\n",
       "9656a8f1059d7af6be6ddaec889c66bc9d402b77      1\n",
       "Name: article_id, Length: 5149, dtype: int64"
      ]
     },
     "execution_count": 274,
     "metadata": {},
     "output_type": "execute_result"
    }
   ],
   "source": [
    "user_article_counts.sort_values(ascending=False)\n"
   ]
  },
  {
   "cell_type": "code",
   "execution_count": 275,
   "metadata": {},
   "outputs": [
    {
     "name": "stdout",
     "output_type": "stream",
     "text": [
      "median number of user-article interactions= 3\n",
      "maximum number of user-article interactions= 364\n"
     ]
    }
   ],
   "source": [
    "# Fill in the median and maximum number of user_article interactions below\n",
    "\n",
    "median_val =  user_article_counts.median() # 50% of individuals interact with ____ number of articles or fewer.\n",
    "print(f'median number of user-article interactions= {int(round(median_val))}')\n",
    "max_views_by_user = user_article_counts.max() # The maximum number of user-article interactions by any 1 user is ______.\n",
    "print(f'maximum number of user-article interactions= {int(max_views_by_user)}')\n"
   ]
  },
  {
   "cell_type": "markdown",
   "metadata": {},
   "source": [
    "`3.` Use the cells below to find:\n",
    "\n",
    "**a.** The number of unique articles that have an interaction with a user.  \n",
    "**b.** The number of unique articles in the dataset (whether they have any interactions or not).<br>\n",
    "**c.** The number of unique users in the dataset. (excluding null values) <br>\n",
    "**d.** The number of user-article interactions in the dataset."
   ]
  },
  {
   "cell_type": "code",
   "execution_count": 276,
   "metadata": {},
   "outputs": [
    {
     "name": "stdout",
     "output_type": "stream",
     "text": [
      "<class 'pandas.core.frame.DataFrame'>\n",
      "Index: 45993 entries, 0 to 47581\n",
      "Data columns (total 3 columns):\n",
      " #   Column      Non-Null Count  Dtype \n",
      "---  ------      --------------  ----- \n",
      " 0   article_id  45993 non-null  int64 \n",
      " 1   title       45993 non-null  object\n",
      " 2   email       45993 non-null  object\n",
      "dtypes: int64(1), object(2)\n",
      "memory usage: 1.4+ MB\n"
     ]
    }
   ],
   "source": [
    "df.info()"
   ]
  },
  {
   "cell_type": "code",
   "execution_count": 277,
   "metadata": {},
   "outputs": [
    {
     "name": "stdout",
     "output_type": "stream",
     "text": [
      "number of unique articles that have at least one interaction: 714\n",
      "number of unique articles: 714\n",
      "number of unique users: 5149\n",
      "number of user-article interactions (same article counts once): 45993\n",
      "number of user-article interactions: 45993\n"
     ]
    }
   ],
   "source": [
    "unique_articles = article_read_counts.count() # The number of unique articles that have at least one interaction\n",
    "total_articles = df.article_id.unique().shape[0] # The number of unique articles on the IBM platform\n",
    "unique_users = df.email.unique().shape[0] # The number of unique users\n",
    "user_article_interactions = df.shape[0] # The number of user-article interactions\n",
    "print(f'number of unique articles that have at least one interaction: {unique_articles}')\n",
    "print(f'number of unique articles: {total_articles}')\n",
    "print(f'number of unique users: {unique_users}')\n",
    "print(f'number of user-article interactions (same article counts once): {user_article_counts.sum()}')\n",
    "print(f'number of user-article interactions: {user_article_interactions}')\n"
   ]
  },
  {
   "cell_type": "markdown",
   "metadata": {},
   "source": [
    "`4.` Use the cells below to find the most viewed **article_id**, as well as how often it was viewed.  After talking to the company leaders, the `email_mapper` function was deemed a reasonable way to map users to ids.  There were a small number of null values, and it was found that all of these null values likely belonged to a single user (which is how they are stored using the function below)."
   ]
  },
  {
   "cell_type": "code",
   "execution_count": 278,
   "metadata": {},
   "outputs": [
    {
     "name": "stdout",
     "output_type": "stream",
     "text": [
      "most viewed article in the dataset: 1429\n",
      "most viewed article in the dataset was viewed 937 times\n"
     ]
    }
   ],
   "source": [
    "# The most viewed article in the dataset as a string with one value following the decimal \n",
    "most_viewed_article_id =  article_read_counts.index[0] #the series of article_read_counts is ordered by article-interactions :-)\n",
    "max_views = article_read_counts.iloc[0] # The most viewed article in the dataset was viewed how many times?\n",
    "\n",
    "print(f'most viewed article in the dataset: {most_viewed_article_id}')\n",
    "print(f'most viewed article in the dataset was viewed {max_views} times')\n"
   ]
  },
  {
   "cell_type": "code",
   "execution_count": 279,
   "metadata": {},
   "outputs": [
    {
     "data": {
      "text/html": [
       "<div>\n",
       "<style scoped>\n",
       "    .dataframe tbody tr th:only-of-type {\n",
       "        vertical-align: middle;\n",
       "    }\n",
       "\n",
       "    .dataframe tbody tr th {\n",
       "        vertical-align: top;\n",
       "    }\n",
       "\n",
       "    .dataframe thead th {\n",
       "        text-align: right;\n",
       "    }\n",
       "</style>\n",
       "<table border=\"1\" class=\"dataframe\">\n",
       "  <thead>\n",
       "    <tr style=\"text-align: right;\">\n",
       "      <th></th>\n",
       "      <th>article_id</th>\n",
       "      <th>title</th>\n",
       "      <th>user_id</th>\n",
       "    </tr>\n",
       "  </thead>\n",
       "  <tbody>\n",
       "    <tr>\n",
       "      <th>0</th>\n",
       "      <td>1430</td>\n",
       "      <td>using pixiedust for fast, flexible, and easier...</td>\n",
       "      <td>1</td>\n",
       "    </tr>\n",
       "    <tr>\n",
       "      <th>1</th>\n",
       "      <td>1314</td>\n",
       "      <td>healthcare python streaming application demo</td>\n",
       "      <td>2</td>\n",
       "    </tr>\n",
       "    <tr>\n",
       "      <th>2</th>\n",
       "      <td>1429</td>\n",
       "      <td>use deep learning for image classification</td>\n",
       "      <td>3</td>\n",
       "    </tr>\n",
       "    <tr>\n",
       "      <th>3</th>\n",
       "      <td>1338</td>\n",
       "      <td>ml optimization using cognitive assistant</td>\n",
       "      <td>4</td>\n",
       "    </tr>\n",
       "    <tr>\n",
       "      <th>4</th>\n",
       "      <td>1276</td>\n",
       "      <td>deploy your python model as a restful api</td>\n",
       "      <td>5</td>\n",
       "    </tr>\n",
       "  </tbody>\n",
       "</table>\n",
       "</div>"
      ],
      "text/plain": [
       "   article_id                                              title  user_id\n",
       "0        1430  using pixiedust for fast, flexible, and easier...        1\n",
       "1        1314       healthcare python streaming application demo        2\n",
       "2        1429         use deep learning for image classification        3\n",
       "3        1338          ml optimization using cognitive assistant        4\n",
       "4        1276          deploy your python model as a restful api        5"
      ]
     },
     "execution_count": 279,
     "metadata": {},
     "output_type": "execute_result"
    }
   ],
   "source": [
    "## No need to change the code here - this will be helpful for later parts of the notebook\n",
    "# Run this cell to map the user email to a user_id column and remove the email column\n",
    "\n",
    "def email_mapper(df=df):\n",
    "    coded_dict = {\n",
    "        email: num \n",
    "        for num, email in enumerate(df['email'].unique(), start=1)\n",
    "    }\n",
    "    return [coded_dict[val] for val in df['email']]\n",
    "\n",
    "df['user_id'] = email_mapper(df)\n",
    "del df['email']\n",
    "\n",
    "# show header\n",
    "df.head()"
   ]
  },
  {
   "cell_type": "code",
   "execution_count": 280,
   "metadata": {},
   "outputs": [
    {
     "name": "stdout",
     "output_type": "stream",
     "text": [
      "It looks like you have everything right here! Nice job!\n"
     ]
    }
   ],
   "source": [
    "## If you stored all your results in the variable names above, \n",
    "## you shouldn't need to change anything in this cell\n",
    "\n",
    "sol_1_dict = {\n",
    "    '`50% of individuals have _____ or fewer interactions.`': median_val,\n",
    "    '`The total number of user-article interactions in the dataset is ______.`': user_article_interactions,\n",
    "    '`The maximum number of user-article interactions by any 1 user is ______.`': max_views_by_user,\n",
    "    '`The most viewed article in the dataset was viewed _____ times.`': max_views,\n",
    "    '`The article_id of the most viewed article is ______.`': most_viewed_article_id,\n",
    "    '`The number of unique articles that have at least 1 rating ______.`': unique_articles,\n",
    "    '`The number of unique users in the dataset is ______`': unique_users,\n",
    "    '`The number of unique articles on the IBM platform`': total_articles\n",
    "}\n",
    "\n",
    "# Test your dictionary against the solution\n",
    "t.sol_1_test(sol_1_dict)"
   ]
  },
  {
   "cell_type": "markdown",
   "metadata": {},
   "source": [
    "### <a class=\"anchor\" id=\"Rank\">Part II: Rank-Based Recommendations</a>\n",
    "\n",
    "In this project, we don't actually have ratings for whether a user liked an article or not.  We only know that a user has interacted with an article. In these cases, the popularity of an article can really only be based on how often an article was interacted with.\n",
    "\n",
    "`1.` Fill in the function below to return the **n** top articles ordered with most interactions as the top. Test your function using the tests below."
   ]
  },
  {
   "cell_type": "code",
   "execution_count": 281,
   "metadata": {},
   "outputs": [],
   "source": [
    "def get_top_articles(n, df=df):\n",
    "    \"\"\"\n",
    "    INPUT:\n",
    "    n - (int) the number of top articles to return\n",
    "    df - (pandas dataframe) df as defined at the top of the notebook \n",
    "    \n",
    "    OUTPUT:\n",
    "    top_articles - (list) A list of the top 'n' article titles \n",
    "    \n",
    "    \"\"\"\n",
    "    top_articles = df.groupby('title')['user_id'].count().sort_values(ascending=False)[:n].index.tolist()\n",
    "    \n",
    "    \n",
    "    return top_articles # Return the top article titles from df\n",
    "\n",
    "def get_top_article_ids(n, df=df):\n",
    "    \"\"\"\n",
    "    INPUT:\n",
    "    n - (int) the number of top articles to return\n",
    "    df - (pandas dataframe) df as defined at the top of the notebook \n",
    "    \n",
    "    OUTPUT:\n",
    "    top_articles - (list) A list of the top 'n' article titles \n",
    "    \n",
    "    \"\"\"\n",
    "    top_articles = df.groupby('article_id')['user_id'].count().sort_values(ascending=False)[:n].index.tolist()\n",
    " \n",
    "    return top_articles # Return the top article ids"
   ]
  },
  {
   "cell_type": "code",
   "execution_count": 282,
   "metadata": {},
   "outputs": [
    {
     "name": "stdout",
     "output_type": "stream",
     "text": [
      "['use deep learning for image classification', 'insights from new york car accident reports', 'visualize car data with brunel', 'use xgboost, scikit-learn & ibm watson machine learning apis', 'predicting churn with the spss random tree algorithm', 'healthcare python streaming application demo', 'finding optimal locations of new store using decision optimization', 'apache spark lab, part 1: basic concepts', 'analyze energy consumption in buildings', 'gosales transactions for logistic regression model']\n",
      "[1429, 1330, 1431, 1427, 1364, 1314, 1293, 1170, 1162, 1304]\n"
     ]
    }
   ],
   "source": [
    "print(get_top_articles(10))\n",
    "print(get_top_article_ids(10))"
   ]
  },
  {
   "cell_type": "code",
   "execution_count": 283,
   "metadata": {},
   "outputs": [
    {
     "name": "stdout",
     "output_type": "stream",
     "text": [
      "Your top_5 looks like the solution list! Nice job.\n",
      "Your top_10 looks like the solution list! Nice job.\n",
      "Your top_20 looks like the solution list! Nice job.\n"
     ]
    }
   ],
   "source": [
    "# Test your function by returning the top 5, 10, and 20 articles\n",
    "top_5 = get_top_articles(5)\n",
    "top_10 = get_top_articles(10)\n",
    "top_20 = get_top_articles(20)\n",
    "\n",
    "# Test each of your three lists from above\n",
    "t.sol_2_test(get_top_articles)"
   ]
  },
  {
   "cell_type": "markdown",
   "metadata": {},
   "source": [
    "### <a class=\"anchor\" id=\"User-User\">Part III: User-User Based Collaborative Filtering</a>\n",
    "\n",
    "\n",
    "`1.` Use the function below to reformat the **df** dataframe to be shaped with users as the rows and articles as the columns.  \n",
    "\n",
    "* Each **user** should only appear in each **row** once.\n",
    "\n",
    "\n",
    "* Each **article** should only show up in one **column**.  \n",
    "\n",
    "\n",
    "* **If a user has interacted with an article, then place a 1 where the user-row meets for that article-column**.  It does not matter how many times a user has interacted with the article, all entries where a user has interacted with an article should be a 1.  \n",
    "\n",
    "\n",
    "* **If a user has not interacted with an item, then place a zero where the user-row meets for that article-column**. \n",
    "\n",
    "Use the tests to make sure the basic structure of your matrix matches what is expected by the solution."
   ]
  },
  {
   "cell_type": "code",
   "execution_count": 284,
   "metadata": {},
   "outputs": [],
   "source": [
    "# create the user-article matrix with 1's and 0's\n",
    "\n",
    "def create_user_item_matrix(df, fill_value=0):\n",
    "    \"\"\"\n",
    "    INPUT:\n",
    "    df - pandas dataframe with article_id, title, user_id columns\n",
    "    \n",
    "    OUTPUT:\n",
    "    user_item - user item matrix \n",
    "    \n",
    "    Description:\n",
    "    Return a matrix with user ids as rows and article ids on the columns with 1 values where a user interacted with \n",
    "    an article and a 0 otherwise\n",
    "    \"\"\"\n",
    "    # Fill in the function here\n",
    "    user_item = df.groupby(['user_id', 'article_id'])['title'].nunique().unstack()\n",
    "    user_item = user_item.fillna(fill_value)\n",
    "    user_item = user_item.astype(int)\n",
    "    return user_item # return the user_item matrix \n",
    "\n",
    "user_item = create_user_item_matrix(df)"
   ]
  },
  {
   "cell_type": "code",
   "execution_count": 295,
   "metadata": {},
   "outputs": [
    {
     "data": {
      "text/plain": [
       "np.int64(3)"
      ]
     },
     "execution_count": 295,
     "metadata": {},
     "output_type": "execute_result"
    }
   ],
   "source": [
    "user_item.sum(axis=1)[20]"
   ]
  },
  {
   "cell_type": "code",
   "execution_count": 286,
   "metadata": {},
   "outputs": [
    {
     "name": "stdout",
     "output_type": "stream",
     "text": [
      "You have passed our quick tests!  Please proceed!\n"
     ]
    }
   ],
   "source": [
    "## Tests: You should just need to run this cell.  Don't change the code.\n",
    "assert user_item.shape[0] == 5149, \"Oops!  The number of users in the user-article matrix doesn't look right.\"\n",
    "assert user_item.shape[1] == 714, \"Oops!  The number of articles in the user-article matrix doesn't look right.\"\n",
    "assert user_item.sum(axis=1)[1] == 36, \"Oops!  The number of articles seen by user 1 doesn't look right.\"\n",
    "print(\"You have passed our quick tests!  Please proceed!\")"
   ]
  },
  {
   "cell_type": "markdown",
   "metadata": {},
   "source": [
    "`2.` Complete the function below which should take a user_id and provide an ordered list of the most similar users to that user (from most similar to least similar).  The returned result should not contain the provided user_id, as we know that each user is similar to him/herself. Because the results for each user here are binary, it (perhaps) makes sense to compute similarity as the dot product of two users. \n",
    "\n",
    "Use the tests to test your function."
   ]
  },
  {
   "cell_type": "code",
   "execution_count": 287,
   "metadata": {},
   "outputs": [],
   "source": [
    "# Lets use the cosine_similarity function from sklearn\n",
    "from sklearn.metrics.pairwise import cosine_similarity"
   ]
  },
  {
   "cell_type": "code",
   "execution_count": 288,
   "metadata": {},
   "outputs": [],
   "source": [
    "def find_similar_users(user_id, user_item=user_item, include_similarity=False, debug=False):\n",
    "    \"\"\"\n",
    "    INPUT:\n",
    "    user_id - (int) a user_id\n",
    "    user_item - (pandas dataframe) matrix of users by articles: \n",
    "                1's when a user has interacted with an article, 0 otherwise\n",
    "    include_similarity - (bool) whether to include the similarity in the output\n",
    "    \n",
    "    OUTPUT:\n",
    "    similar_users - (list) an ordered list where the closest users (largest dot product users)\n",
    "                    are listed first\n",
    "    \n",
    "    Description:\n",
    "    Computes the similarity of every pair of users based on the dot product\n",
    "    Returns an ordered list of user ids. If include_similarity is True, returns a list of lists\n",
    "    where the first element is the user id and the second the similarity.\n",
    "    \n",
    "    \"\"\"\n",
    "    \n",
    "    # compute similarity of each user to the provided user\n",
    "    idx = user_item.index.get_loc(user_id)\n",
    "    cos_sim = cosine_similarity(user_item, user_item)\n",
    "    similarity = list(enumerate(cos_sim[idx]))\n",
    "\n",
    "    # sort by similarity nd remove the own user's id\n",
    "    similarity = sorted(similarity, key=lambda x: x[1], reverse=True)[1:]\n",
    "    if debug:\n",
    "            print(f'Sorted scores: {similarity}')\n",
    "    \n",
    "    # create list of just the ids\n",
    "    sim_users = [i[0] for i in similarity]\n",
    "    # create list of just the similarities\n",
    "    sims = [i[1] for i in similarity]\n",
    "    most_similar_users = user_item.index[sim_users]\n",
    "\n",
    "    if include_similarity:\n",
    "        return list(zip(most_similar_users, sims)) # return a list of lists with [[similar_user_id, similarity], ...]\n",
    "    return most_similar_users # return a list of the users in order from most to least similar\n",
    "        "
   ]
  },
  {
   "cell_type": "code",
   "execution_count": 289,
   "metadata": {},
   "outputs": [
    {
     "name": "stdout",
     "output_type": "stream",
     "text": [
      "The 10 most similar users to user 1 are: Index([3933, 46, 4201, 253, 824, 5034, 5041, 136, 2305, 395], dtype='int64', name='user_id')\n",
      "The 5 most similar users to user 3933 are: Index([1, 46, 4201, 253, 824], dtype='int64', name='user_id')\n",
      "The 3 most similar users to user 46 are: Index([4201, 790, 5077], dtype='int64', name='user_id')\n"
     ]
    }
   ],
   "source": [
    "# Do a spot check of your function\n",
    "print(\"The 10 most similar users to user 1 are: {}\".format(find_similar_users(1)[:10]))\n",
    "print(\"The 5 most similar users to user 3933 are: {}\".format(find_similar_users(3933)[:5]))\n",
    "print(\"The 3 most similar users to user 46 are: {}\".format(find_similar_users(46)[:3]))"
   ]
  },
  {
   "cell_type": "markdown",
   "metadata": {},
   "source": [
    "`3.` Now that you have a function that provides the most similar users to each user, you will want to use these users to find articles you can recommend.  Complete the functions below to return the articles you would recommend to each user. "
   ]
  },
  {
   "cell_type": "code",
   "execution_count": 315,
   "metadata": {},
   "outputs": [],
   "source": [
    "def get_article_names(article_ids, df=df):\n",
    "    \"\"\"\n",
    "    INPUT:\n",
    "    article_ids - (list) a list of article ids\n",
    "    df - (pandas dataframe) df as defined at the top of the notebook\n",
    "    \n",
    "    OUTPUT:\n",
    "    article_names - (list) a list of article names associated with the list of article ids \n",
    "                    (this is identified by the title column in df)\n",
    "    \"\"\"\n",
    "    article_names = []\n",
    "    \n",
    "    for article_id in article_ids:\n",
    "        # Get the title for each article_id in the original order\n",
    "        title = df[df['article_id'] == article_id]['title'].values\n",
    "        \n",
    "        # Add the title if found, otherwise add a placeholder\n",
    "        if len(title) > 0:\n",
    "            # Use unique() to handle potential duplicates in the dataset\n",
    "            unique_titles = np.unique(title).tolist()\n",
    "            article_names.append(unique_titles[0])  # Take the first title if multiple exist\n",
    "        else:\n",
    "            article_names.append(f\"Article {article_id} (No title found)\")\n",
    "\n",
    "    \n",
    "    \n",
    "    return article_names # Return the article names associated with list of article ids\n",
    "\n",
    "def get_ranked_article_unique_counts(article_ids, user_item=user_item):\n",
    "    \"\"\"\n",
    "    INPUT:\n",
    "    user_id - (int) a user id\n",
    "    user_item - (pandas dataframe) matrix of users by articles: \n",
    "                1's when a user has interacted with an article, 0 otherwise \n",
    "    \n",
    "    OUTPUT:\n",
    "    article_counts - (list) a list of tuples with article_id and number of \n",
    "                     unique users that have interacted with the article, sorted\n",
    "                     by the number of unique users in descending order\n",
    "    \n",
    "    Description:\n",
    "    Provides a list of the article_ids and the number of unique users that have\n",
    "    interacted with the article using the user_item matrix, sorted by the number\n",
    "    of unique users in descending order\n",
    "    \"\"\"\n",
    "    # Filter the user_item matrix to only include the specified article_ids\n",
    "    filtered_user_item = user_item[article_ids]\n",
    "    \n",
    "    # Count the number of unique users (sum of 1's) for each article\n",
    "    article_unique_counts = filtered_user_item.sum(axis=0)\n",
    "    \n",
    "    # Convert to list of tuples (article_id, count) and sort by count in descending order\n",
    "    ranked_article_unique_counts = [(article_id, int(count)) for article_id, count in article_unique_counts.items()]\n",
    "    ranked_article_unique_counts = sorted(ranked_article_unique_counts, key=lambda x: x[1], reverse=True)\n",
    "    \n",
    "    return ranked_article_unique_counts\n",
    "\n",
    "\n",
    "def get_user_articles(user_id, user_item=user_item):\n",
    "    \"\"\"\n",
    "    INPUT:\n",
    "    user_id - (int) a user id\n",
    "    user_item - (pandas dataframe) matrix of users by articles: \n",
    "                1's when a user has interacted with an article, 0 otherwise\n",
    "    \n",
    "    OUTPUT:\n",
    "    article_ids - (list) a list of the article ids seen by the user\n",
    "    article_names - (list) a list of article names associated with the list of article ids \n",
    "                    (this is identified by the title column in df)\n",
    "    \n",
    "    Description:\n",
    "    Provides a list of the article_ids and article titles that have been seen by a user\n",
    "    \"\"\"\n",
    "    \n",
    "    article_ids = user_item.loc[user_id][user_item.loc[user_id] == 1].index.tolist()\n",
    "    article_names = get_article_names(article_ids)\n",
    "    \n",
    "    return article_ids, article_names # return the ids and names\n",
    "\n",
    "\n",
    "def user_user_recs(user_id, m=10):\n",
    "    \"\"\"\n",
    "    INPUT:\n",
    "    user_id - (int) a user id\n",
    "    m - (int) the number of recommendations you want for the user\n",
    "    \n",
    "    OUTPUT:\n",
    "    recs - (list) a list of recommendations for the user\n",
    "    \n",
    "    Description:\n",
    "    Loops through the users based on closeness to the input user_id\n",
    "    For each user - finds articles the user hasn't seen before and provides them as recs\n",
    "    Does this until m recommendations are found\n",
    "    \n",
    "    Notes:\n",
    "    Users who are the same closeness are chosen arbitrarily as the 'next' user\n",
    "    \n",
    "    For the user where the number of recommended articles starts below m \n",
    "    and ends exceeding m, the last items are chosen arbitrarily\n",
    "    \n",
    "    \"\"\"\n",
    "    # list to hold recommended articles\n",
    "    recs = []\n",
    "    \n",
    "    # Get articles the user has already seen\n",
    "    user_articles, _ = get_user_articles(user_id)\n",
    "    \n",
    "    # Find similar users (they are already sorted by similarity)\n",
    "    sim_users = find_similar_users(user_id)\n",
    "    \n",
    "    # loop through similar users\n",
    "    for sim_user in sim_users:    \n",
    "        # Check if we already have enough recommendations\n",
    "        if len(recs) >= m:\n",
    "            break      \n",
    "        # Get articles this similar user has seen\n",
    "        sim_user_articles, _ = get_user_articles(sim_user)\n",
    "        \n",
    "        # Find articles the similar user has seen but the target user hasn't\n",
    "        new_articles = [article for article in sim_user_articles if article not in user_articles]\n",
    "        \n",
    "        # Add new articles to recommendations (max m articles)\n",
    "        for article in new_articles:\n",
    "            if len(recs) < m:\n",
    "                recs.append(article)\n",
    "            # m- recommended articles reached, break out of loop\n",
    "            if len(recs) == m:\n",
    "                break\n",
    "             \n",
    "    return recs # return your recommendations for this user_id    \n"
   ]
  },
  {
   "cell_type": "code",
   "execution_count": 306,
   "metadata": {},
   "outputs": [
    {
     "data": {
      "text/plain": [
       "([232, 844, 1320],\n",
       " ['self-service data preparation with ibm data refinery',\n",
       "  'use the cloudant-spark connector in python notebook',\n",
       "  'housing (2015): united states demographic measures'])"
      ]
     },
     "execution_count": 306,
     "metadata": {},
     "output_type": "execute_result"
    }
   ],
   "source": [
    "# Check Results\n",
    "# Get article_ids that user 20 has interacted with\n",
    "get_user_articles(20)\n"
   ]
  },
  {
   "cell_type": "code",
   "execution_count": 319,
   "metadata": {},
   "outputs": [
    {
     "data": {
      "text/plain": [
       "(1320, 123)"
      ]
     },
     "execution_count": 319,
     "metadata": {},
     "output_type": "execute_result"
    }
   ],
   "source": [
    "# my test\n",
    "get_ranked_article_unique_counts([1320, 232, 844])[0] "
   ]
  },
  {
   "cell_type": "code",
   "execution_count": 318,
   "metadata": {},
   "outputs": [
    {
     "ename": "AssertionError",
     "evalue": "Oops! Your the get_ranked_article_unique_counts function doesn't work quite how we expect.\nMake sure you are using the user_item matrix to create the article counts.",
     "output_type": "error",
     "traceback": [
      "\u001b[31m---------------------------------------------------------------------------\u001b[39m",
      "\u001b[31mAssertionError\u001b[39m                            Traceback (most recent call last)",
      "\u001b[36mCell\u001b[39m\u001b[36m \u001b[39m\u001b[32mIn[318]\u001b[39m\u001b[32m, line 8\u001b[39m\n\u001b[32m      6\u001b[39m \u001b[38;5;28;01massert\u001b[39;00m \u001b[38;5;28mset\u001b[39m(get_user_articles(\u001b[32m2\u001b[39m)[\u001b[32m0\u001b[39m]) == \u001b[38;5;28mset\u001b[39m([\u001b[32m1024\u001b[39m, \u001b[32m1176\u001b[39m, \u001b[32m1305\u001b[39m, \u001b[32m1314\u001b[39m, \u001b[32m1422\u001b[39m, \u001b[32m1427\u001b[39m])\n\u001b[32m      7\u001b[39m \u001b[38;5;28;01massert\u001b[39;00m \u001b[38;5;28mset\u001b[39m(get_user_articles(\u001b[32m2\u001b[39m)[\u001b[32m1\u001b[39m]) == \u001b[38;5;28mset\u001b[39m([\u001b[33m'\u001b[39m\u001b[33musing deep learning to reconstruct high-resolution audio\u001b[39m\u001b[33m'\u001b[39m, \u001b[33m'\u001b[39m\u001b[33mbuild a python app on the streaming analytics service\u001b[39m\u001b[33m'\u001b[39m, \u001b[33m'\u001b[39m\u001b[33mgosales transactions for naive bayes model\u001b[39m\u001b[33m'\u001b[39m, \u001b[33m'\u001b[39m\u001b[33mhealthcare python streaming application demo\u001b[39m\u001b[33m'\u001b[39m, \u001b[33m'\u001b[39m\u001b[33muse r dataframes & ibm watson natural language understanding\u001b[39m\u001b[33m'\u001b[39m, \u001b[33m'\u001b[39m\u001b[33muse xgboost, scikit-learn & ibm watson machine learning apis\u001b[39m\u001b[33m'\u001b[39m])\n\u001b[32m----> \u001b[39m\u001b[32m8\u001b[39m \u001b[38;5;28;01massert\u001b[39;00m get_ranked_article_unique_counts([\u001b[32m1320\u001b[39m, \u001b[32m232\u001b[39m, \u001b[32m844\u001b[39m])[\u001b[32m0\u001b[39m] == [\u001b[32m1320\u001b[39m, \u001b[32m123\u001b[39m], \u001b[33m\"\u001b[39m\u001b[33mOops! Your the get_ranked_article_unique_counts function doesn\u001b[39m\u001b[33m'\u001b[39m\u001b[33mt work quite how we expect.\u001b[39m\u001b[38;5;130;01m\\n\u001b[39;00m\u001b[33mMake sure you are using the user_item matrix to create the article counts.\u001b[39m\u001b[33m\"\u001b[39m\n\u001b[32m      9\u001b[39m \u001b[38;5;28mprint\u001b[39m(\u001b[33m\"\u001b[39m\u001b[33mIf this is all you see, you passed all of our tests!  Nice job!\u001b[39m\u001b[33m\"\u001b[39m)\n",
      "\u001b[31mAssertionError\u001b[39m: Oops! Your the get_ranked_article_unique_counts function doesn't work quite how we expect.\nMake sure you are using the user_item matrix to create the article counts."
     ]
    }
   ],
   "source": [
    "# Test your functions here - No need to change this code - just run this cell\n",
    "assert set(get_article_names([1024, 1176, 1305, 1314, 1422, 1427])) == set(['using deep learning to reconstruct high-resolution audio', 'build a python app on the streaming analytics service', 'gosales transactions for naive bayes model', 'healthcare python streaming application demo', 'use r dataframes & ibm watson natural language understanding', 'use xgboost, scikit-learn & ibm watson machine learning apis']), \"Oops! Your the get_article_names function doesn't work quite how we expect.\"\n",
    "assert set(get_article_names([1320, 232, 844])) == set(['housing (2015): united states demographic measures','self-service data preparation with ibm data refinery','use the cloudant-spark connector in python notebook']), \"Oops! Your the get_article_names function doesn't work quite how we expect.\"\n",
    "assert set(get_user_articles(20)[0]) == set([1320, 232, 844])\n",
    "assert set(get_user_articles(20)[1]) == set(['housing (2015): united states demographic measures', 'self-service data preparation with ibm data refinery','use the cloudant-spark connector in python notebook'])\n",
    "assert set(get_user_articles(2)[0]) == set([1024, 1176, 1305, 1314, 1422, 1427])\n",
    "assert set(get_user_articles(2)[1]) == set(['using deep learning to reconstruct high-resolution audio', 'build a python app on the streaming analytics service', 'gosales transactions for naive bayes model', 'healthcare python streaming application demo', 'use r dataframes & ibm watson natural language understanding', 'use xgboost, scikit-learn & ibm watson machine learning apis'])\n",
    "assert get_ranked_article_unique_counts([1320, 232, 844])[0] == [1320, 123], \"Oops! Your the get_ranked_article_unique_counts function doesn't work quite how we expect.\\nMake sure you are using the user_item matrix to create the article counts.\"\n",
    "print(\"If this is all you see, you passed all of our tests!  Nice job!\")"
   ]
  },
  {
   "cell_type": "markdown",
   "metadata": {},
   "source": [
    "`4.` Now we are going to improve the consistency of the **user_user_recs** function from above.  \n",
    "\n",
    "* Instead of arbitrarily choosing when we obtain users who are all the same closeness to a given user - choose the users that have the most total article interactions before choosing those with fewer article interactions.\n",
    "\n",
    "\n",
    "* Instead of arbitrarily choosing articles from the user where the number of recommended articles starts below m and ends exceeding m, choose articles with the articles with the most total interactions before choosing those with fewer total interactions. This ranking should be  what would be obtained from the **top_articles** function you wrote earlier."
   ]
  },
  {
   "cell_type": "code",
   "execution_count": null,
   "metadata": {},
   "outputs": [],
   "source": [
    "def get_top_sorted_users(user_id, user_item=user_item):\n",
    "    \"\"\"\n",
    "    INPUT:\n",
    "    user_id - (int)\n",
    "    user_item - (pandas dataframe) matrix of users by articles: \n",
    "            1's when a user has interacted with an article, 0 otherwise\n",
    "    \n",
    "            \n",
    "    OUTPUT:\n",
    "    neighbors_df - (pandas dataframe) a dataframe with:\n",
    "                    neighbor_id - is a neighbor user_id\n",
    "                    similarity - measure of the similarity of each user to the provided user_id\n",
    "                    num_interactions - the number of articles viewed by the user\n",
    "                    \n",
    "    Other Details - sort the neighbors_df by the similarity and then by number of interactions where \n",
    "                    highest of each is higher in the dataframe, i.e. Descending order\n",
    "     \n",
    "    \"\"\"\n",
    "    # Your code here\n",
    "    # Hint: find similar users, but include their similarity, from there we can find the number of interactions for each neighbor\n",
    "    \n",
    "    return neighbors_df # Return the dataframe specified in the doc_string\n",
    "\n",
    "\n",
    "def user_user_recs_part2(user_id, m=10):\n",
    "    \"\"\"\n",
    "    INPUT:\n",
    "    user_id - (int) a user id\n",
    "    m - (int) the number of recommendations you want for the user\n",
    "    \n",
    "    OUTPUT:\n",
    "    recs - (list) a list of recommendations for the user by article id\n",
    "    rec_names - (list) a list of recommendations for the user by article title\n",
    "    \n",
    "    Description:\n",
    "    Loops through the users based on closeness to the input user_id\n",
    "    For each user - finds articles the user hasn't seen before and provides them as recs\n",
    "    Does this until m recommendations are found\n",
    "    \n",
    "    Notes:\n",
    "    * Choose the users that have the most total article interactions \n",
    "    before choosing those with fewer article interactions.\n",
    "\n",
    "    * Choose articles with the articles with the most total interactions \n",
    "    before choosing those with fewer total interactions. \n",
    "   \n",
    "    \"\"\"\n",
    "    # Your code here\n",
    "    \n",
    "    return recs, get_article_names(recs) # return your recommendations for this user_id"
   ]
  },
  {
   "cell_type": "code",
   "execution_count": null,
   "metadata": {},
   "outputs": [],
   "source": [
    "# Quick spot check - don't change this code - just use it to test your functions\n",
    "rec_ids, rec_names = user_user_recs_part2(20, 10)\n",
    "print(\"The top 10 recommendations for user 20 are the following article ids:\")\n",
    "print(rec_ids)\n",
    "print()\n",
    "print(\"The top 10 recommendations for user 20 are the following article names:\")\n",
    "print(rec_names)"
   ]
  },
  {
   "cell_type": "markdown",
   "metadata": {},
   "source": [
    "`5.` Use your functions from above to correctly fill in the solutions to the dictionary below.  Then test your dictionary against the solution.  Provide the code you need to answer each following the comments below."
   ]
  },
  {
   "cell_type": "code",
   "execution_count": null,
   "metadata": {},
   "outputs": [],
   "source": [
    "print(get_top_sorted_users(1, user_item=user_item).head(n=1))\n",
    "print(get_top_sorted_users(2, user_item=user_item).head(n=10))\n",
    "print(get_top_sorted_users(131, user_item=user_item).head(n=10))"
   ]
  },
  {
   "cell_type": "code",
   "execution_count": null,
   "metadata": {},
   "outputs": [],
   "source": [
    "### Tests with a dictionary of results\n",
    "user1_most_sim =  # Find the user that is most similar to user 1 \n",
    "user2_6th_sim =  # Find the 6th most similar user to user 2\n",
    "user131_10th_sim =  # Find the 10th most similar user to user 131"
   ]
  },
  {
   "cell_type": "code",
   "execution_count": null,
   "metadata": {},
   "outputs": [],
   "source": [
    "## Dictionary Test Here\n",
    "sol_5_dict = {\n",
    "    'The user that is most similar to user 1.': user1_most_sim, \n",
    "    'The user that is the 6th most similar to user 2.': user2_6th_sim,\n",
    "    'The user that is the 10th most similar to user 131.': user131_10th_sim,\n",
    "}\n",
    "\n",
    "t.sol_5_test(sol_5_dict)"
   ]
  },
  {
   "cell_type": "markdown",
   "metadata": {},
   "source": [
    "`6.` If we were given a new user, which of the above functions would you be able to use to make recommendations?  Explain.  Can you think of a better way we might make recommendations?  Use the cell below to explain a better method for new users."
   ]
  },
  {
   "cell_type": "markdown",
   "metadata": {},
   "source": [
    "Answer:\n",
    "\n",
    "Top articles as no user history, only can use user-user history till they start having user-item iteractions"
   ]
  },
  {
   "cell_type": "markdown",
   "metadata": {},
   "source": [
    "`7.` Using your existing functions, provide the top 10 recommended articles you would provide for the a new user below.  You can test your function against our thoughts to make sure we are all on the same page with how we might make a recommendation."
   ]
  },
  {
   "cell_type": "code",
   "execution_count": null,
   "metadata": {},
   "outputs": [],
   "source": [
    "# What would your recommendations be for this new user 0?  As a new user, they have no observed articles.\n",
    "# Provide a list of the top 10 article ids you would give to \n",
    "new_user_recs = # Your recommendations here\n",
    "\n"
   ]
  },
  {
   "cell_type": "code",
   "execution_count": null,
   "metadata": {},
   "outputs": [],
   "source": [
    "assert set(new_user_recs) == {1314, 1429, 1293, 1427, 1162, 1364, 1304, 1170, 1431, 1330}, \"Oops!  It makes sense that in this case we would want to recommend the most popular articles, because we don't know anything about these users.\"\n",
    "\n",
    "print(\"That's right!  Nice job!\")"
   ]
  },
  {
   "cell_type": "markdown",
   "metadata": {},
   "source": [
    "### <a class=\"anchor\" id=\"Content-Recs\">Part IV: Content Based Recommendations</a>\n",
    "\n",
    "Another method we might use to make recommendations is to recommend similar articles that are possibly related. One way we can find article relationships is by clustering text about those articles.  Let's consider content to be the article **title**, as it is the only text we have available. One point to highlight, there isn't one way to create a content based recommendation, especially considering that text information can be processed in many ways.  \n",
    "\n",
    "`1.` Use the function bodies below to create a content based recommender function `make_content_recs`. We'll use TF-IDF to create a matrix based off article titles, and use this matrix to create clusters of related articles. You can use this function to make recommendations of new articles."
   ]
  },
  {
   "cell_type": "code",
   "execution_count": null,
   "metadata": {},
   "outputs": [],
   "source": [
    "df.head()"
   ]
  },
  {
   "cell_type": "code",
   "execution_count": null,
   "metadata": {},
   "outputs": [],
   "source": [
    "from sklearn.cluster import KMeans\n",
    "from sklearn.feature_extraction.text import TfidfVectorizer\n",
    "from sklearn.pipeline import make_pipeline\n",
    "from sklearn.preprocessing import Normalizer\n",
    "from sklearn.decomposition import TruncatedSVD"
   ]
  },
  {
   "cell_type": "code",
   "execution_count": null,
   "metadata": {},
   "outputs": [],
   "source": [
    "# unique articles\n",
    "df_unique_articles = "
   ]
  },
  {
   "cell_type": "code",
   "execution_count": null,
   "metadata": {},
   "outputs": [],
   "source": [
    "# Create a vectorizer using TfidfVectorizer and fit it to the article titles\n",
    "max_features = 200\n",
    "max_df = 0.75\n",
    "min_df = 5\n",
    "\n",
    "vectorizer = TfidfVectorizer(\n",
    "    max_df=max_df,\n",
    "    min_df=min_df,\n",
    "    stop_words=\"english\",\n",
    "    max_features=max_features,\n",
    ")\n",
    "print(\"Running TF-IDF\")\n",
    "X_tfidf =  # Fit the vectorizer to the article titles\n",
    "\n",
    "print(f\"n_samples: {X_tfidf.shape[0]}, n_features: {X_tfidf.shape[1]}\")\n",
    "\n",
    "lsa = make_pipeline(TruncatedSVD(n_components=50), Normalizer(copy=False))\n",
    "X_lsa = # Fit the LSA model to the vectorized article titles\n",
    "explained_variance = lsa[0].explained_variance_ratio_.sum()\n",
    "\n",
    "print(f\"Explained variance of the SVD step: {explained_variance * 100:.1f}%\")"
   ]
  },
  {
   "cell_type": "code",
   "execution_count": null,
   "metadata": {},
   "outputs": [],
   "source": [
    "# Let's map the inertia for different number of clusters to find the optimal number of clusters\n",
    "# We'll plot it to see the elbow\n",
    "inertia = []\n",
    "clusters = 300\n",
    "step = 25\n",
    "max_iter = 50\n",
    "n_init = 5\n",
    "random_state = 42\n",
    "for k in range(1, clusters, step):\n",
    "    kmeans = KMeans(\n",
    "        n_clusters=k,\n",
    "        max_iter=max_iter,\n",
    "        n_init=n_init,\n",
    "        random_state=random_state,\n",
    "    ).fit(X_lsa)\n",
    "    # inertia is the sum of squared distances to the closest cluster center\n",
    "    inertia.append(kmeans.inertia_)\n",
    "plt.plot(range(1, clusters, step), inertia)\n",
    "plt.xlabel('Number of clusters')"
   ]
  },
  {
   "cell_type": "markdown",
   "metadata": {},
   "source": [
    "There appears to be an elbow about 50, so we'll use 50 clusters."
   ]
  },
  {
   "cell_type": "code",
   "execution_count": null,
   "metadata": {},
   "outputs": [],
   "source": [
    "n_clusters = # Number of clusters\n",
    "kmeans = KMeans(\n",
    "    # Your code here, same as parameters above\n",
    ").fit()"
   ]
  },
  {
   "cell_type": "code",
   "execution_count": null,
   "metadata": {},
   "outputs": [],
   "source": [
    "# create a new column `title_cluster` and assign it the kmeans cluster labels\n",
    "# First we need to map the labels to df_unique_articles article ids and then apply those to df\n",
    "article_cluster_map = {} # Map article_id to cluster label\n",
    "df['title_cluster'] = # apply map to create title clusters"
   ]
  },
  {
   "cell_type": "code",
   "execution_count": null,
   "metadata": {},
   "outputs": [],
   "source": [
    "# Let's check the number of articles in each cluster\n",
    "np.array(np.unique(kmeans.labels_, return_counts=True)).T"
   ]
  },
  {
   "cell_type": "code",
   "execution_count": null,
   "metadata": {},
   "outputs": [],
   "source": [
    "def get_similar_articles(article_id, df=df):\n",
    "    \"\"\"\n",
    "    INPUT:\n",
    "    article_id - (int) an article id \n",
    "    df - (pandas dataframe) df as defined at the top of the notebook \n",
    "    \n",
    "    OUTPUT:\n",
    "    article_ids - (list) a list of article ids that are in the same title cluster\n",
    "    \n",
    "    Description:\n",
    "    Returns a list of the article ids that are in the same title cluster\n",
    "    \"\"\"\n",
    "     # Your code here\n",
    "    title_cluster = \n",
    "    articles_in_cluster = \n",
    "    \n",
    "    # remove the input article_id from the list\n",
    "    \n",
    "    return articles_in_cluster"
   ]
  },
  {
   "cell_type": "code",
   "execution_count": null,
   "metadata": {},
   "outputs": [],
   "source": [
    "def make_content_recs(article_id, n, df=df):\n",
    "    \"\"\"\n",
    "    INPUT:\n",
    "    article_id - (int) an article id\n",
    "    n - (int) the number of recommendations you want similar to the article id\n",
    "    df - (pandas dataframe) df as defined at the top of the notebook\n",
    "    \n",
    "    OUTPUT:\n",
    "    n_ranked_similar_articles - (list) a list of article ids that are in the same title cluster ranked\n",
    "                                by popularity\n",
    "    n_ranked_article_names - (list) a list of article names associated with the list of article ids\n",
    "    \n",
    "    Description:\n",
    "    Returns a list of the n most ranked similar articles to a given article_id based on the title\n",
    "    cluster in df. Rank similar articles using the function get_ranked_article_unique_counts.\n",
    "    \"\"\"\n",
    "    # Your code here\n",
    "    \n",
    "    return n_ranked_similar_articles, n_ranked_article_names\n",
    "        "
   ]
  },
  {
   "cell_type": "code",
   "execution_count": null,
   "metadata": {},
   "outputs": [],
   "source": [
    "# Test out your content recommendations given artice_id 25\n",
    "rec_article_ids, rec_article_titles = make_content_recs(25, 10)\n",
    "print(rec_article_ids)\n",
    "print(rec_article_titles)"
   ]
  },
  {
   "cell_type": "code",
   "execution_count": null,
   "metadata": {},
   "outputs": [],
   "source": [
    "assert len({1025, 593, 349, 821, 464, 29, 1042, 693, 524, 352}.intersection(set(rec_article_ids))) > 0, \"Oops! Your the make_content_recs function doesn't work quite how we expect.\""
   ]
  },
  {
   "cell_type": "markdown",
   "metadata": {},
   "source": [
    "`2.` Now that you have put together your content-based recommendation system, use the cell below to write a summary explaining how your content based recommender works.  Do you see any possible improvements that could be made to your function? What other text data would be useful to help make better recommendations besides the article title?"
   ]
  },
  {
   "cell_type": "markdown",
   "metadata": {},
   "source": [
    "**Write an explanation of your content based recommendation system here.**"
   ]
  },
  {
   "cell_type": "markdown",
   "metadata": {},
   "source": [
    "### <a class=\"anchor\" id=\"Matrix-Fact\">Part V: Matrix Factorization</a>\n",
    "\n",
    "In this part of the notebook, you will build use matrix factorization to make article recommendations to users.\n",
    "\n",
    "`1.` You should have already created a **user_item** matrix above in **question 1** of **Part III** above.  This first question here will just require that you run the cells to get things set up for the rest of **Part V** of the notebook. "
   ]
  },
  {
   "cell_type": "code",
   "execution_count": null,
   "metadata": {},
   "outputs": [],
   "source": [
    "# quick look at the matrix\n",
    "user_item.head()"
   ]
  },
  {
   "cell_type": "markdown",
   "metadata": {},
   "source": [
    "`2.` In this situation, you can use Singular Value Decomposition from [scikit-learn](https://scikit-learn.org/stable/modules/generated/sklearn.decomposition.TruncatedSVD.html) on the user-item matrix.  Use the cell to perform SVD."
   ]
  },
  {
   "cell_type": "code",
   "execution_count": null,
   "metadata": {},
   "outputs": [],
   "source": [
    "from sklearn.decomposition import TruncatedSVD\n",
    "from sklearn.metrics import precision_score, recall_score, accuracy_score\n",
    "# Using the full number of components which equals the number of columns\n",
    "svd = TruncatedSVD(n_components=len(user_item.columns), n_iter=5, random_state=42)\n",
    "\n",
    "u = svd.fit_transform(user_item)\n",
    "v = svd.components_\n",
    "s = svd.singular_values_ \n",
    "print('u', u.shape)\n",
    "print('s', s.shape)\n",
    "print('vt', v.shape)"
   ]
  },
  {
   "cell_type": "markdown",
   "metadata": {},
   "source": [
    "`3.` Now for the tricky part, how do we choose the number of latent features to use?  Running the below cell, you can see that as the number of latent features increases, we obtain better metrics when making predictions for the 1 and 0 values in the user-item matrix.  Run the cell below to get an idea of how our metrics improve as we increase the number of latent features."
   ]
  },
  {
   "cell_type": "markdown",
   "metadata": {},
   "source": []
  },
  {
   "cell_type": "code",
   "execution_count": null,
   "metadata": {},
   "outputs": [],
   "source": [
    "num_latent_feats = np.arange(10, 700+10, 20)\n",
    "metric_scores = []\n",
    "\n",
    "for k in num_latent_feats:\n",
    "    # restructure with k latent features\n",
    "    u_new, vt_new = u[:, :k], v[:k, :]\n",
    "    \n",
    "    # take dot product\n",
    "    user_item_est = abs(np.around(np.dot(u_new, vt_new))).astype(int)\n",
    "    # make sure the values are between 0 and 1\n",
    "    user_item_est = np.clip(user_item_est, 0, 1)\n",
    "    \n",
    "    # total errors and keep track of them\n",
    "    acc = accuracy_score(user_item.values.flatten(), user_item_est.flatten())\n",
    "    precision = precision_score(user_item.values.flatten(), user_item_est.flatten())\n",
    "    recall = recall_score(user_item.values.flatten(), user_item_est.flatten())\n",
    "    metric_scores.append([acc, precision, recall])\n",
    "    \n",
    "    \n",
    "plt.plot(num_latent_feats, metric_scores, label=['Accuracy', 'Precision', 'Recall'])\n",
    "plt.legend()\n",
    "plt.xlabel('Number of Latent Features')\n",
    "plt.title('Metrics vs. Number of Latent Features')"
   ]
  },
  {
   "cell_type": "markdown",
   "metadata": {},
   "source": [
    "`4.` From the above, we can't really be sure how many features to use, because simply having a better way to predict the 1's and 0's of the matrix doesn't exactly give us an indication of if we are able to make good recommendations. Given the plot above, what would you pick for the number of latent features and why?"
   ]
  },
  {
   "cell_type": "markdown",
   "metadata": {},
   "source": [
    "**Provide your response here.**"
   ]
  },
  {
   "cell_type": "markdown",
   "metadata": {},
   "source": [
    "`5.` Using 200 latent features and the values of U, S, and V transpose we calculated above, create an article id recommendation function that finds similar article ids to the one provide.\n",
    "\n",
    "Create a list of 10 recommendations that are similar to article with id 4.  The function should provide these recommendations by finding articles that have the most similar latent features as the provided article."
   ]
  },
  {
   "cell_type": "code",
   "execution_count": null,
   "metadata": {},
   "outputs": [],
   "source": [
    "def get_svd_similar_article_ids(article_id, vt, user_item=user_item, include_similarity=False):\n",
    "    \"\"\"\n",
    "    INPUT:\n",
    "    article_id - (int) an article id\n",
    "    vt - (numpy array) vt matrix from SVD\n",
    "    user_item - (pandas dataframe) matrix of users by articles: \n",
    "                1's when a user has interacted with an article, 0 otherwise\n",
    "    include_similarity - (bool) whether to include the similarity in the output\n",
    "    \n",
    "    OUTPUT:\n",
    "    article_ids - (list) a list of article ids that are in the same title cluster\n",
    "    \n",
    "    Description:\n",
    "    Returns a list of the article ids similar using SVD factorization\n",
    "    \"\"\"\n",
    "    # Find the index of the article_id\n",
    "    article_idx = \n",
    "    # Find the cosine similarity of all articles\n",
    "    # Hint: vt should be transposed before passing to cosine_similarity to get a 714 x 714 matrix \n",
    "    cos_sim = \n",
    "    # Get similarities only for the cos_sim of the article_idx\n",
    "    \n",
    "    # Sort and return the articles, don't include the own article\n",
    "    \n",
    "    if include_similarity:\n",
    "        return # return a list of lists with [[similar_article_id, similarity], ...]\n",
    "    return most_similar_items"
   ]
  },
  {
   "cell_type": "code",
   "execution_count": null,
   "metadata": {},
   "outputs": [],
   "source": [
    "# Create a vt_new matrix with 200 latent features\n",
    "k = 200\n",
    "vt_new = v[:k, :]"
   ]
  },
  {
   "cell_type": "code",
   "execution_count": null,
   "metadata": {},
   "outputs": [],
   "source": [
    "# What is the article name for article_id 4?\n",
    "print(\"Current article:\", get_article_names([4], df=df)[0])"
   ]
  },
  {
   "cell_type": "code",
   "execution_count": null,
   "metadata": {},
   "outputs": [],
   "source": [
    "# What are the top 10 most similar articles to article_id 4?\n",
    "rec_articles = get_svd_similar_article_ids(4, vt_new, user_item=user_item)[:10]\n",
    "rec_articles"
   ]
  },
  {
   "cell_type": "code",
   "execution_count": null,
   "metadata": {},
   "outputs": [],
   "source": [
    "# What are the top 10 most similar articles to article_id 4?\n",
    "get_article_names(rec_articles, df=df)"
   ]
  },
  {
   "cell_type": "code",
   "execution_count": null,
   "metadata": {},
   "outputs": [],
   "source": [
    "assert set(rec_articles) == {1199, 1068, 486, 1202, 176, 1120, 244, 793, 58, 132}, \"Oops! Your the get_svd_similar_article_ids function doesn't work quite how we expect.\"\n",
    "print(\"That's right!  Great job!\")"
   ]
  },
  {
   "cell_type": "markdown",
   "metadata": {
    "collapsed": true
   },
   "source": [
    "`6.` Use the cell below to comment on the results you found in the previous question. Given the circumstances of your results, discuss what you might do to determine if the recommendations you make above are an improvement to how users currently find articles, either by Sections 2, 3, or 4? Add any tradeoffs between each of the methods, and how you could leverage each type for different situations including new users with no history, recently new users with little history, and users with a lot of history. "
   ]
  },
  {
   "cell_type": "markdown",
   "metadata": {},
   "source": [
    "**Your response here.**"
   ]
  },
  {
   "cell_type": "markdown",
   "metadata": {
    "collapsed": true
   },
   "source": [
    "<a id='conclusions'></a>\n",
    "### Extras\n",
    "Using your workbook, you could now save your recommendations for each user, develop a class to make new predictions and update your results, and make a flask app to deploy your results.  These tasks are beyond what is required for this project.  However, from what you learned in the lessons, you certainly capable of taking these tasks on to improve upon your work here!\n",
    "\n",
    "\n",
    "## Conclusion\n",
    "\n",
    "> Congratulations!  You have reached the end of the Recommendation Systems project! \n",
    "\n",
    "> **Tip**: Once you are satisfied with your work here, check over your report to make sure that it is satisfies all the areas of the [rubric](https://review.udacity.com/#!/rubrics/2322/view). You should also probably remove all of the \"Tips\" like this one so that the presentation is as polished as possible.\n",
    "\n",
    "\n",
    "## Directions to Submit\n",
    "\n",
    "> Before you submit your project, you need to create a .html or .pdf version of this notebook in the workspace here. To do that, run the code cell below. If it worked correctly, you should get a return code of 0, and you should see the generated .html file in the workspace directory (click on the orange Jupyter icon in the upper left).\n",
    "\n",
    "> Alternatively, you can download this report as .html via the **File** > **Download as** submenu, and then manually upload it into the workspace directory by clicking on the orange Jupyter icon in the upper left, then using the Upload button.\n",
    "\n",
    "> Once you've done this, you can submit your project by clicking on the \"Submit Project\" button in the lower right here. This will create and submit a zip file with this .ipynb doc and the .html or .pdf version you created. Congratulations! "
   ]
  },
  {
   "cell_type": "code",
   "execution_count": null,
   "metadata": {
    "collapsed": true
   },
   "outputs": [],
   "source": [
    "from subprocess import call\n",
    "call(['python', '-m', 'nbconvert', 'Recommendations_with_IBM.ipynb'])"
   ]
  }
 ],
 "metadata": {
  "kernelspec": {
   "display_name": "dsnd-recommendations",
   "language": "python",
   "name": "python3"
  },
  "language_info": {
   "codemirror_mode": {
    "name": "ipython",
    "version": 3
   },
   "file_extension": ".py",
   "mimetype": "text/x-python",
   "name": "python",
   "nbconvert_exporter": "python",
   "pygments_lexer": "ipython3",
   "version": "3.11.8"
  }
 },
 "nbformat": 4,
 "nbformat_minor": 2
}
